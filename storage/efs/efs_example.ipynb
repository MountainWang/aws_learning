{
 "cells": [
  {
   "cell_type": "code",
   "execution_count": null,
   "metadata": {},
   "outputs": [],
   "source": [
    "import boto3\n",
    "\n",
    "efs_client = boto3.client('efs')\n",
    "# 创建EFS文件系统\n",
    "def create_efs_filesystem():\n",
    "    response = efs_client.create_file_system()\n",
    "    file_system_id = response['FileSystemId']\n",
    "    print(f\"Created EFS file system with ID: {file_system_id}\")\n",
    "    return file_system_id\n",
    "\n",
    "# 创建EFS挂载目标\n",
    "def create_efs_mount_target(file_system_id, subnet_id, security_group_id):\n",
    "    response = efs_client.create_mount_target(\n",
    "        FileSystemId=file_system_id,\n",
    "        SubnetId=subnet_id,\n",
    "        SecurityGroups=[security_group_id]\n",
    "    )\n",
    "    mount_target_id = response['MountTargetId']\n",
    "    print(f\"Created EFS mount target with ID: {mount_target_id}\")\n",
    "    return mount_target_id\n",
    "\n",
    "# 列出EFS文件系统\n",
    "def list_efs_filesystems():\n",
    "    response = efs_client.describe_file_systems()\n",
    "    file_systems = response['FileSystems']\n",
    "    for fs in file_systems:\n",
    "        file_system_id = fs['FileSystemId']\n",
    "        print(f\"EFS file system ID: {file_system_id}\")\n",
    "# 删除EFS挂载目标\n",
    "def delete_efs_mount_target(file_system_id):\n",
    "    response = efs_client.delete_mount_target(\n",
    "        MountTargetId=file_system_id\n",
    "    )\n",
    "    print(f\"delete EFS mount target with ID: {file_system_id}\")\n",
    "\n",
    "# 删除EFS文件系统\n",
    "def delete_efs_filesystem(file_system_id):\n",
    "    efs_client.delete_file_system(FileSystemId=file_system_id)\n",
    "    print(f\"Deleted EFS file system with ID: {file_system_id}\")"
   ]
  },
  {
   "cell_type": "code",
   "execution_count": null,
   "metadata": {},
   "outputs": [],
   "source": [
    "# 列出EFS文件系统\n",
    "efs_list = list_efs_filesystems()\n",
    "print(efs_list)"
   ]
  },
  {
   "cell_type": "code",
   "execution_count": null,
   "metadata": {},
   "outputs": [],
   "source": [
    "# 创建EFS文件系统\n",
    "fsid = create_efs_filesystem()\n",
    "print(fsid)"
   ]
  },
  {
   "cell_type": "code",
   "execution_count": null,
   "metadata": {},
   "outputs": [],
   "source": [
    "# 创建EFS挂载目标\n",
    "subnet_id = 'subnet-1ff75945'\n",
    "security_group_id = 'sg-3dbc8777'\n",
    "mount_target_id = create_efs_mount_target(fsid, subnet_id, security_group_id)\n",
    "print(mount_target_id)"
   ]
  },
  {
   "cell_type": "code",
   "execution_count": null,
   "metadata": {},
   "outputs": [],
   "source": [
    "# 删除EFS挂载目标\n",
    "delete_efs_mount_target(mount_target_id)"
   ]
  },
  {
   "cell_type": "code",
   "execution_count": null,
   "metadata": {},
   "outputs": [],
   "source": [
    "# 删除EFS文件系统\n",
    "delete_efs_filesystem(fsid)"
   ]
  }
 ],
 "metadata": {
  "kernelspec": {
   "display_name": "Python 3",
   "language": "python",
   "name": "python3"
  },
  "language_info": {
   "codemirror_mode": {
    "name": "ipython",
    "version": 3
   },
   "file_extension": ".py",
   "mimetype": "text/x-python",
   "name": "python",
   "nbconvert_exporter": "python",
   "pygments_lexer": "ipython3",
   "version": "3.8.10"
  },
  "orig_nbformat": 4
 },
 "nbformat": 4,
 "nbformat_minor": 2
}

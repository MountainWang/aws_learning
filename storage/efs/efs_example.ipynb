{
 "cells": [
  {
   "cell_type": "code",
   "execution_count": null,
   "metadata": {},
   "outputs": [],
   "source": [
    "import boto3\n",
    "\n",
    "efs_client = boto3.client('efs')\n",
    "# 创建EFS文件系统\n",
    "def create_efs_filesystem():\n",
    "    response = efs_client.create_file_system()\n",
    "    file_system_id = response['FileSystemId']\n",
    "    print(f\"Created EFS file system with ID: {file_system_id}\")\n",
    "\n",
    "# 创建EFS挂载目标\n",
    "def create_efs_mount_target(file_system_id, subnet_id, security_group_id):\n",
    "    response = efs_client.create_mount_target(\n",
    "        FileSystemId=file_system_id,\n",
    "        SubnetId=subnet_id,\n",
    "        SecurityGroups=[security_group_id]\n",
    "    )\n",
    "    mount_target_id = response['MountTargetId']\n",
    "    print(f\"Created EFS mount target with ID: {mount_target_id}\")\n",
    "\n",
    "# 列出EFS文件系统\n",
    "def list_efs_filesystems():\n",
    "    response = efs_client.describe_file_systems()\n",
    "    file_systems = response['FileSystems']\n",
    "    for fs in file_systems:\n",
    "        file_system_id = fs['FileSystemId']\n",
    "        print(f\"EFS file system ID: {file_system_id}\")\n",
    "\n",
    "# 删除EFS文件系统\n",
    "def delete_efs_filesystem(file_system_id):\n",
    "    efs_client.delete_file_system(FileSystemId=file_system_id)\n",
    "    print(f\"Deleted EFS file system with ID: {file_system_id}\")"
   ]
  }
 ],
 "metadata": {
  "language_info": {
   "name": "python"
  },
  "orig_nbformat": 4
 },
 "nbformat": 4,
 "nbformat_minor": 2
}

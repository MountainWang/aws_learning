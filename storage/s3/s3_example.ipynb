{
 "cells": [
  {
   "cell_type": "code",
   "execution_count": null,
   "metadata": {},
   "outputs": [],
   "source": [
    "import boto3\n",
    "\n",
    "# 创建S3客户端\n",
    "s3_client = boto3.client('s3')\n",
    "\n",
    "# 创建S3存储桶\n",
    "def create_bucket(bucket_name):\n",
    "    response = s3_client.create_bucket(\n",
    "        Bucket=bucket_name,\n",
    "        CreateBucketConfiguration={\n",
    "            'LocationConstraint': 'us-west-1'  # 设置存储桶所在的区域\n",
    "        }\n",
    "    )\n",
    "    print(response)\n",
    "\n",
    "# 上传文件到S3存储桶\n",
    "def upload_file(bucket_name, file_name, object_key):\n",
    "    s3_client.upload_file(\n",
    "        file_name,  # 本地文件路径\n",
    "        bucket_name,\n",
    "        object_key  # S3对象键\n",
    "    )\n",
    "    print(f\"{file_name} 上传成功！\")\n",
    "\n",
    "# 下载S3存储桶中的文件\n",
    "def download_file(bucket_name, object_key, file_name):\n",
    "    s3_client.download_file(\n",
    "        bucket_name,\n",
    "        object_key,  # S3对象键\n",
    "        file_name  # 本地文件路径\n",
    "    )\n",
    "    print(f\"{file_name} 下载成功！\")\n",
    "\n",
    "# 列出S3存储桶中的所有对象\n",
    "def list_objects(bucket_name):\n",
    "    response = s3_client.list_objects_v2(\n",
    "        Bucket=bucket_name\n",
    "    )\n",
    "    for obj in response['Contents']:\n",
    "        print(obj['Key'])\n",
    "\n",
    "# 删除S3存储桶中的对象\n",
    "def delete_object(bucket_name, object_name):\n",
    "    response = s3_client.delete_object(\n",
    "        Bucket=bucket_name,\n",
    "        Key=object_name\n",
    "    )\n",
    "    print(f\"{object_name} 删除成功！\")\n",
    "\n",
    "# 删除S3存储桶\n",
    "def delete_bucket(bucket_name):\n",
    "    response = s3_client.delete_bucket(\n",
    "        Bucket=bucket_name\n",
    "    )\n",
    "    print(f\"{bucket_name} 删除成功！\")\n"
   ]
  },
  {
   "cell_type": "code",
   "execution_count": null,
   "metadata": {},
   "outputs": [],
   "source": [
    "bucket_name = 'mtw-bucket-001'\n",
    "# 新建bucket\n",
    "create_bucket(bucket_name)"
   ]
  },
  {
   "cell_type": "code",
   "execution_count": null,
   "metadata": {},
   "outputs": [],
   "source": [
    "# 上传文件\n",
    "file_name = 'example.txt'\n",
    "object_key = 'folder/example.txt'\n",
    "upload_file(bucket_name, file_name, object_key)"
   ]
  },
  {
   "cell_type": "code",
   "execution_count": null,
   "metadata": {},
   "outputs": [],
   "source": [
    "# 查看bucket\n",
    "list_objects(bucket_name)"
   ]
  },
  {
   "cell_type": "code",
   "execution_count": null,
   "metadata": {},
   "outputs": [],
   "source": [
    "# 下载文件\n",
    "download_file(bucket_name, object_key, file_name+'downloaded')"
   ]
  },
  {
   "cell_type": "code",
   "execution_count": null,
   "metadata": {},
   "outputs": [],
   "source": [
    "# 删除s3上的文件\n",
    "delete_object(bucket_name, object_key)"
   ]
  },
  {
   "cell_type": "code",
   "execution_count": null,
   "metadata": {},
   "outputs": [],
   "source": [
    "# 删除bucket\n",
    "delete_bucket(bucket_name)"
   ]
  }
 ],
 "metadata": {
  "kernelspec": {
   "display_name": "Python 3",
   "language": "python",
   "name": "python3"
  },
  "language_info": {
   "codemirror_mode": {
    "name": "ipython",
    "version": 3
   },
   "file_extension": ".py",
   "mimetype": "text/x-python",
   "name": "python",
   "nbconvert_exporter": "python",
   "pygments_lexer": "ipython3",
   "version": "3.8.10"
  },
  "orig_nbformat": 4
 },
 "nbformat": 4,
 "nbformat_minor": 2
}

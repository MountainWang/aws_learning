{
 "cells": [
  {
   "cell_type": "code",
   "execution_count": null,
   "metadata": {},
   "outputs": [],
   "source": [
    "import boto3\n",
    "\n",
    "ec2_resource = boto3.resource('ec2')\n",
    "# 创建EBS卷\n",
    "def create_ebs_volume(size, availability_zone):\n",
    "    volume = ec2.create_volume(\n",
    "        Size=size,\n",
    "        AvailabilityZone=availability_zone\n",
    "    )\n",
    "    return volume.id\n",
    "\n",
    "# 附加EBS卷到EC2实例\n",
    "def attach_ebs_volume(instance_id, volume_id, device):\n",
    "    volume = ec2_resource.Volume(volume_id)\n",
    "    response = volume.attach_to_instance(\n",
    "        Device=device,\n",
    "        InstanceId=instance_id\n",
    "    )\n",
    "    return response\n",
    "\n",
    "# 分离EBS卷\n",
    "def detach_ebs_volume(volume_id):\n",
    "    volume = ec2_resource.Volume(volume_id)\n",
    "    response = volume.detach_from_instance()\n",
    "    return response\n",
    "\n",
    "# 删除EBS卷\n",
    "def delete_ebs_volume(volume_id):\n",
    "    volume = ec2_resource.Volume(volume_id)\n",
    "    response = volume.delete()\n",
    "    return response"
   ]
  }
 ],
 "metadata": {
  "language_info": {
   "name": "python"
  },
  "orig_nbformat": 4
 },
 "nbformat": 4,
 "nbformat_minor": 2
}

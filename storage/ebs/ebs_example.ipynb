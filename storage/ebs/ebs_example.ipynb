{
 "cells": [
  {
   "cell_type": "code",
   "execution_count": null,
   "metadata": {},
   "outputs": [],
   "source": [
    "import boto3\n",
    "\n",
    "ec2_resource = boto3.resource('ec2')\n",
    "# 创建EBS卷\n",
    "def create_ebs_volume(size, availability_zone):\n",
    "    volume = ec2_resource.create_volume(\n",
    "        Size=size,\n",
    "        AvailabilityZone=availability_zone\n",
    "    )\n",
    "    return volume.id\n",
    "\n",
    "# 附加EBS卷到EC2实例\n",
    "def attach_ebs_volume(instance_id, volume_id, device):\n",
    "    volume = ec2_resource.Volume(volume_id)\n",
    "    response = volume.attach_to_instance(\n",
    "        Device=device,\n",
    "        InstanceId=instance_id\n",
    "    )\n",
    "    return response\n",
    "\n",
    "# 分离EBS卷\n",
    "def detach_ebs_volume(volume_id):\n",
    "    volume = ec2_resource.Volume(volume_id)\n",
    "    response = volume.detach_from_instance()\n",
    "    return response\n",
    "\n",
    "# 删除EBS卷\n",
    "def delete_ebs_volume(volume_id):\n",
    "    volume = ec2_resource.Volume(volume_id)\n",
    "    response = volume.delete()\n",
    "    return response"
   ]
  },
  {
   "cell_type": "code",
   "execution_count": null,
   "metadata": {},
   "outputs": [],
   "source": [
    "# 创建一个EBS卷\n",
    "az='us-west-1b'\n",
    "instance_id = 'i-07790de3c13887ce4'\n",
    "volume_id = create_ebs_volume(10, az)\n",
    "print('创建的EBS卷ID:', volume_id)\n"
   ]
  },
  {
   "cell_type": "code",
   "execution_count": null,
   "metadata": {},
   "outputs": [],
   "source": [
    "# 附加EBS卷到EC2实例\n",
    "device = '/dev/sdf'\n",
    "response = attach_ebs_volume(instance_id, volume_id, device)\n",
    "print('附加EBS卷的响应:', response)"
   ]
  },
  {
   "cell_type": "code",
   "execution_count": null,
   "metadata": {},
   "outputs": [],
   "source": [
    "# 分离EBS卷\n",
    "response = detach_ebs_volume(volume_id)\n",
    "print('分离EBS卷的响应:', response)"
   ]
  },
  {
   "cell_type": "code",
   "execution_count": null,
   "metadata": {},
   "outputs": [],
   "source": [
    "# 删除EBS卷\n",
    "response = delete_ebs_volume(volume_id)\n",
    "print('删除EBS卷的响应:', response)"
   ]
  }
 ],
 "metadata": {
  "kernelspec": {
   "display_name": "Python 3",
   "language": "python",
   "name": "python3"
  },
  "language_info": {
   "codemirror_mode": {
    "name": "ipython",
    "version": 3
   },
   "file_extension": ".py",
   "mimetype": "text/x-python",
   "name": "python",
   "nbconvert_exporter": "python",
   "pygments_lexer": "ipython3",
   "version": "3.8.10"
  },
  "orig_nbformat": 4
 },
 "nbformat": 4,
 "nbformat_minor": 2
}

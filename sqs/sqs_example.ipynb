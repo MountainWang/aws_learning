{
 "cells": [
  {
   "cell_type": "code",
   "execution_count": null,
   "metadata": {},
   "outputs": [],
   "source": [
    "import logging\n",
    "import boto3\n",
    "from botocore.exceptions import ClientError\n",
    "\n",
    "logger = logging.getLogger(__name__)\n",
    "sqs_resource = boto3.resource('sqs')\n",
    "queue_name = 'YOUR_QUEUE_NAME'\n",
    "sns_topic_arn = 'YOUR_SNS_TOPIC_ARN'"
   ]
  },
  {
   "cell_type": "code",
   "execution_count": null,
   "metadata": {},
   "outputs": [],
   "source": [
    "def create_queue(name, attributes=None):\n",
    "    \"\"\"\n",
    "    Creates an Amazon SQS queue.\n",
    "\n",
    "    :param name: The name of the queue. This is part of the URL assigned to the queue.\n",
    "    :param attributes: The attributes of the queue, such as maximum message size or\n",
    "                       whether it's a FIFO queue.\n",
    "    :return: A Queue object that contains metadata about the queue and that can be used\n",
    "             to perform queue operations like sending and receiving messages.\n",
    "    \"\"\"\n",
    "    if not attributes:\n",
    "        attributes = {}\n",
    "\n",
    "    try:\n",
    "        queue = sqs_resource.create_queue(\n",
    "            QueueName=name,\n",
    "            Attributes=attributes\n",
    "        )\n",
    "        logger.info(\"Created queue '%s' with URL=%s\", name, queue.url)\n",
    "    except ClientError as error:\n",
    "        logger.exception(\"Couldn't create queue named '%s'.\", name)\n",
    "        raise error\n",
    "    else:\n",
    "        return queue"
   ]
  },
  {
   "cell_type": "code",
   "execution_count": null,
   "metadata": {},
   "outputs": [],
   "source": [
    "queue = create_queue(queue_name)\n",
    "print(queue)"
   ]
  },
  {
   "cell_type": "code",
   "execution_count": null,
   "metadata": {},
   "outputs": [],
   "source": [
    "def subcribe_sns(queue,topic_arn):\n",
    "    sns_resource = boto3.resource('sns')\n",
    "    topic = sns_resource.Topic(topic_arn)\n",
    "    subscription = topic.subscribe(Protocol='sqs', Endpoint=queue.attributes['QueueArn'])\n",
    "    return subscription"
   ]
  },
  {
   "cell_type": "code",
   "execution_count": null,
   "metadata": {},
   "outputs": [],
   "source": [
    "subcribe_sns(queue,sns_topic_arn)"
   ]
  },
  {
   "cell_type": "code",
   "execution_count": null,
   "metadata": {},
   "outputs": [],
   "source": [
    "def send_message(queue, message_body, message_attributes=None):\n",
    "    \"\"\"\n",
    "    Send a message to an Amazon SQS queue.\n",
    "\n",
    "    :param queue: The queue that receives the message.\n",
    "    :param message_body: The body text of the message.\n",
    "    :param message_attributes: Custom attributes of the message. These are key-value\n",
    "                               pairs that can be whatever you want.\n",
    "    :return: The response from SQS that contains the assigned message ID.\n",
    "    \"\"\"\n",
    "    if not message_attributes:\n",
    "        message_attributes = {}\n",
    "\n",
    "    try:\n",
    "        response = queue.send_message(\n",
    "            MessageBody=message_body,\n",
    "            MessageAttributes=message_attributes\n",
    "        )\n",
    "    except ClientError as error:\n",
    "        logger.exception(\"Send message failed: %s\", message_body)\n",
    "        raise error\n",
    "    else:\n",
    "        return response"
   ]
  },
  {
   "cell_type": "code",
   "execution_count": null,
   "metadata": {},
   "outputs": [],
   "source": [
    "send_message(queue,'Hello World')"
   ]
  },
  {
   "cell_type": "code",
   "execution_count": null,
   "metadata": {},
   "outputs": [],
   "source": [
    "def receive_messages(queue, max_number, wait_time):\n",
    "    \"\"\"\n",
    "    Receive a batch of messages in a single request from an SQS queue.\n",
    "\n",
    "    :param queue: The queue from which to receive messages.\n",
    "    :param max_number: The maximum number of messages to receive. The actual number\n",
    "                       of messages received might be less.\n",
    "    :param wait_time: The maximum time to wait (in seconds) before returning. When\n",
    "                      this number is greater than zero, long polling is used. This\n",
    "                      can result in reduced costs and fewer false empty responses.\n",
    "    :return: The list of Message objects received. These each contain the body\n",
    "             of the message and metadata and custom attributes.\n",
    "    \"\"\"\n",
    "    try:\n",
    "        messages = queue.receive_messages(\n",
    "            MessageAttributeNames=['All'],\n",
    "            MaxNumberOfMessages=max_number,\n",
    "            WaitTimeSeconds=wait_time\n",
    "        )\n",
    "        for msg in messages:\n",
    "            logger.info(\"Received message: %s: %s\", msg.message_id, msg.body)\n",
    "    except ClientError as error:\n",
    "        logger.exception(\"Couldn't receive messages from queue: %s\", queue)\n",
    "        raise error\n",
    "    else:\n",
    "        return messages"
   ]
  },
  {
   "cell_type": "code",
   "execution_count": null,
   "metadata": {},
   "outputs": [],
   "source": [
    "messages = receive_messages(queue,10,5)\n",
    "if messages:\n",
    "    for one in messages:\n",
    "        print(one.body)\n",
    "else:\n",
    "    print('no message in queue')"
   ]
  },
  {
   "cell_type": "code",
   "execution_count": null,
   "metadata": {},
   "outputs": [],
   "source": [
    "def delete_message(message):\n",
    "    \"\"\"\n",
    "    Delete a message from a queue. Clients must delete messages after they\n",
    "    are received and processed to remove them from the queue.\n",
    "\n",
    "    :param message: The message to delete. The message's queue URL is contained in\n",
    "                    the message's metadata.\n",
    "    :return: None\n",
    "    \"\"\"\n",
    "    try:\n",
    "        message.delete()\n",
    "        logger.info(\"Deleted message: %s\", message.message_id)\n",
    "    except ClientError as error:\n",
    "        logger.exception(\"Couldn't delete message: %s\", message.message_id)\n",
    "        raise error"
   ]
  },
  {
   "cell_type": "code",
   "execution_count": null,
   "metadata": {},
   "outputs": [],
   "source": [
    "for one in messages:\n",
    "    delete_message(one)"
   ]
  },
  {
   "cell_type": "code",
   "execution_count": null,
   "metadata": {},
   "outputs": [],
   "source": [
    "def remove_queue(queue):\n",
    "    \"\"\"\n",
    "    Removes an SQS queue. When run against an AWS account, it can take up to\n",
    "    60 seconds before the queue is actually deleted.\n",
    "\n",
    "    :param queue: The queue to delete.\n",
    "    :return: None\n",
    "    \"\"\"\n",
    "    try:\n",
    "        queue.delete()\n",
    "        logger.info(\"Deleted queue with URL=%s.\", queue.url)\n",
    "    except ClientError as error:\n",
    "        logger.exception(\"Couldn't delete queue with URL=%s!\", queue.url)\n",
    "        raise error"
   ]
  },
  {
   "cell_type": "code",
   "execution_count": null,
   "metadata": {},
   "outputs": [],
   "source": [
    "remove_queue(queue)"
   ]
  }
 ],
 "metadata": {
  "interpreter": {
   "hash": "31f2aee4e71d21fbe5cf8b01ff0e069b9275f58929596ceb00d14d90e3e16cd6"
  },
  "kernelspec": {
   "display_name": "Python 3.8.10 64-bit",
   "language": "python",
   "name": "python3"
  },
  "language_info": {
   "codemirror_mode": {
    "name": "ipython",
    "version": 3
   },
   "file_extension": ".py",
   "mimetype": "text/x-python",
   "name": "python",
   "nbconvert_exporter": "python",
   "pygments_lexer": "ipython3",
   "version": "3.8.10"
  },
  "orig_nbformat": 4
 },
 "nbformat": 4,
 "nbformat_minor": 2
}

{
 "cells": [
  {
   "cell_type": "code",
   "execution_count": null,
   "metadata": {},
   "outputs": [],
   "source": [
    "import logging\n",
    "import boto3\n",
    "from botocore.exceptions import ClientError\n",
    "\n",
    "logger = logging.getLogger(__name__)\n",
    "sns_resource = boto3.resource('sns')\n",
    "topic_name = 'YOUR_TOPIC_NAME'\n",
    "subscribe_url = 'YOUR_SUBSCRIBE_ADDRESS'"
   ]
  },
  {
   "cell_type": "code",
   "execution_count": null,
   "metadata": {},
   "outputs": [],
   "source": [
    "def create_topic(name):\n",
    "    \"\"\"\n",
    "    Creates a notification topic.\n",
    "\n",
    "    :param name: The name of the topic to create.\n",
    "    :return: The newly created topic.\n",
    "    \"\"\"\n",
    "    try:\n",
    "        topic = sns_resource.create_topic(Name=name)\n",
    "        logger.info(\"Created topic %s with ARN %s.\", name, topic.arn)\n",
    "    except ClientError:\n",
    "        logger.exception(\"Couldn't create topic %s.\", name)\n",
    "        raise\n",
    "    else:\n",
    "        return topic"
   ]
  },
  {
   "cell_type": "code",
   "execution_count": null,
   "metadata": {},
   "outputs": [],
   "source": [
    "topic = create_topic(topic_name)\n",
    "print(topic)"
   ]
  },
  {
   "cell_type": "code",
   "execution_count": null,
   "metadata": {},
   "outputs": [],
   "source": [
    "def subscribe(topic, protocol, endpoint):\n",
    "    \"\"\"\n",
    "    Subscribes an endpoint to the topic. Some endpoint types, such as email,\n",
    "    must be confirmed before their subscriptions are active. When a subscription\n",
    "    is not confirmed, its Amazon Resource Number (ARN) is set to\n",
    "    'PendingConfirmation'.\n",
    "\n",
    "    :param topic: The topic to subscribe to.\n",
    "    :param protocol: The protocol of the endpoint, such as 'sms' or 'email'.\n",
    "    :param endpoint: The endpoint that receives messages, such as a phone number\n",
    "                        (in E.164 format) for SMS messages, or an email address for\n",
    "                        email messages.\n",
    "    :return: The newly added subscription.\n",
    "    \"\"\"\n",
    "    try:\n",
    "        subscription = topic.subscribe(\n",
    "            Protocol=protocol, Endpoint=endpoint, ReturnSubscriptionArn=True)\n",
    "        logger.info(\"Subscribed %s %s to topic %s.\", protocol, endpoint, topic.arn)\n",
    "    except ClientError:\n",
    "        logger.exception(\n",
    "            \"Couldn't subscribe %s %s to topic %s.\", protocol, endpoint, topic.arn)\n",
    "        raise\n",
    "    else:\n",
    "        return subscription"
   ]
  },
  {
   "cell_type": "code",
   "execution_count": null,
   "metadata": {},
   "outputs": [],
   "source": [
    "subscription = subscribe(topic, 'http', subscribe_url)\n",
    "print(subscription)"
   ]
  },
  {
   "cell_type": "code",
   "execution_count": null,
   "metadata": {},
   "outputs": [],
   "source": [
    "def publish_message(topic, message, attributes):\n",
    "    try:\n",
    "        att_dict = {}\n",
    "        for key, value in attributes.items():\n",
    "            if isinstance(value, str):\n",
    "                att_dict[key] = {'DataType': 'String', 'StringValue': value}\n",
    "            elif isinstance(value, bytes):\n",
    "                att_dict[key] = {'DataType': 'Binary', 'BinaryValue': value}\n",
    "        response = topic.publish(Message=message, MessageAttributes=att_dict)\n",
    "        message_id = response['MessageId']\n",
    "        logger.info(\n",
    "            \"Published message with attributes %s to topic %s.\", attributes,\n",
    "            topic.arn)\n",
    "    except ClientError:\n",
    "        logger.exception(\"Couldn't publish message to topic %s.\", topic.arn)\n",
    "        raise\n",
    "    else:\n",
    "        return message_id"
   ]
  },
  {
   "cell_type": "code",
   "execution_count": null,
   "metadata": {},
   "outputs": [],
   "source": [
    "publish_message(topic, 'Hello World!',{})"
   ]
  },
  {
   "cell_type": "code",
   "execution_count": null,
   "metadata": {},
   "outputs": [],
   "source": [
    "def delete_topic(topic):\n",
    "    \"\"\"\n",
    "    Deletes a topic. All subscriptions to the topic are also deleted.\n",
    "    \"\"\"\n",
    "    try:\n",
    "        topic.delete()\n",
    "        logger.info(\"Deleted topic %s.\", topic.arn)\n",
    "    except ClientError:\n",
    "        logger.exception(\"Couldn't delete topic %s.\", topic.arn)\n",
    "        raise\n",
    "def delete_subscription(subscription):\n",
    "    \"\"\"\n",
    "    Unsubscribes and deletes a subscription.\n",
    "    \"\"\"\n",
    "    try:\n",
    "        subscription.delete()\n",
    "        logger.info(\"Deleted subscription %s.\", subscription.arn)\n",
    "    except ClientError:\n",
    "        logger.exception(\"Couldn't delete subscription %s.\", subscription.arn)\n",
    "        raise"
   ]
  },
  {
   "cell_type": "code",
   "execution_count": null,
   "metadata": {},
   "outputs": [],
   "source": [
    "delete_subscription(subscription)\n",
    "delete_topic(topic)"
   ]
  }
 ],
 "metadata": {
  "interpreter": {
   "hash": "31f2aee4e71d21fbe5cf8b01ff0e069b9275f58929596ceb00d14d90e3e16cd6"
  },
  "kernelspec": {
   "display_name": "Python 3.8.10 64-bit",
   "language": "python",
   "name": "python3"
  },
  "language_info": {
   "codemirror_mode": {
    "name": "ipython",
    "version": 3
   },
   "file_extension": ".py",
   "mimetype": "text/x-python",
   "name": "python",
   "nbconvert_exporter": "python",
   "pygments_lexer": "ipython3",
   "version": "3.8.10"
  },
  "orig_nbformat": 4
 },
 "nbformat": 4,
 "nbformat_minor": 2
}
